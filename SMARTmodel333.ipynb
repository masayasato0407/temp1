{
 "cells": [
  {
   "cell_type": "code",
   "execution_count": null,
   "id": "e250116f",
   "metadata": {},
   "outputs": [],
   "source": [
    "import streamlit as st\n",
    "import sksurv\n",
    "from sksurv.linear_model import CoxPHSurvivalAnalysis\n",
    "from sksurv.linear_model.coxph import BreslowEstimator\n",
    "import pandas as pd\n",
    "import matplotlib.pyplot as plt\n",
    "import numpy as np\n",
    "from sksurv.ensemble import RandomSurvivalForest\n",
    "import pickle"
   ]
  },
  {
   "cell_type": "code",
   "execution_count": null,
   "id": "2e177a09",
   "metadata": {},
   "outputs": [],
   "source": [
    "rsf = pickle.load(open(\"smartmodel.sav\", 'rb'))"
   ]
  },
  {
   "cell_type": "code",
   "execution_count": null,
   "id": "ccb70e63",
   "metadata": {},
   "outputs": [],
   "source": [
    "st.title('Prediction model for post-SVR HCC (SMART model)') "
   ]
  },
  {
   "cell_type": "code",
   "execution_count": null,
   "id": "e17fa4f4",
   "metadata": {},
   "outputs": [],
   "source": [
    "st.markdown(\"Enter the following items to display the predicted HCC risk\")"
   ]
  },
  {
   "cell_type": "code",
   "execution_count": null,
   "id": "36207ff3",
   "metadata": {},
   "outputs": [],
   "source": [
    "with st.form('user_inputs'): \n",
    "  age=st.number_input('age (year)', min_value=18,max_value=100) \n",
    "  height=st.number_input('height (cm)', min_value=100.0,max_value=300.0) \n",
    "  weight=st.number_input('body weight (kg)', min_value=20.0,max_value=300.0)     \n",
    "  PLT=st.number_input('Platelet count (×10^4/µL)', min_value=1.0,max_value=75.0)\n",
    "  AFP=st.number_input('AFP (ng/mL)', min_value=0.1,max_value=100.0) \n",
    "  ALB=st.number_input('Albumin (g/dL)', min_value=1.0,max_value=7.0) \n",
    "  AST=st.number_input('AST (IU/L)', min_value=1,max_value=300)\n",
    "  GGT=st.number_input('γ-GTP (IU/L)', min_value=1,max_value=1000)\n",
    "  st.form_submit_button() "
   ]
  },
  {
   "cell_type": "code",
   "execution_count": null,
   "id": "6ed83662",
   "metadata": {},
   "outputs": [],
   "source": [
    "height2=height*height\n",
    "BMI0=weight/height2\n",
    "BMI=BMI0*10000"
   ]
  },
  {
   "cell_type": "code",
   "execution_count": null,
   "id": "981beab8",
   "metadata": {},
   "outputs": [],
   "source": [
    "surv = rsf.predict_survival_function(pd.DataFrame(\n",
    "    data={'age': [age],\n",
    "          'BMI': [BMI],\n",
    "          'PLT': [PLT],\n",
    "          'AFP': [AFP],\n",
    "          'ALB': [ALB],\n",
    "          'AST': [AST],\n",
    "          'GGT': [GGT],\n",
    "         }\n",
    "), return_array=True)\n",
    "\n",
    "for i, s in enumerate(surv):\n",
    "    plt.step(rsf.event_times_, s, where=\"post\", label=str(i))\n",
    "plt.xlim(0,10)\n",
    "plt.ylim(0,1)\n",
    "plt.ylabel(\"predicted HCC development\")\n",
    "plt.xlabel(\"years\")\n",
    "plt.grid(True)\n",
    "\n",
    "plt.gca().invert_yaxis()\n",
    "\n",
    "plt.yticks([0.0, 0.2, 0.4,0.6,0.8,1.0],\n",
    "            ['100%', '80%', '60%', '40%', '20%', '0%'])\n",
    "plt.savefig(\"img.png\")"
   ]
  },
  {
   "cell_type": "code",
   "execution_count": null,
   "id": "a360f3df",
   "metadata": {},
   "outputs": [],
   "source": [
    "X=pd.DataFrame(\n",
    "    data={'age': [age],\n",
    "          'BMI': [BMI],\n",
    "          'PLT': [PLT],\n",
    "          'AFP': [AFP],\n",
    "          'ALB': [ALB],\n",
    "          'AST': [AST],\n",
    "          'GGT': [GGT],\n",
    "         }\n",
    ")"
   ]
  },
  {
   "cell_type": "code",
   "execution_count": null,
   "id": "12753781",
   "metadata": {},
   "outputs": [],
   "source": [
    "rfscore0=pd.Series(rsf.predict(X))"
   ]
  },
  {
   "cell_type": "code",
   "execution_count": null,
   "id": "fc8aa3a2",
   "metadata": {},
   "outputs": [],
   "source": [
    "rfscore=float(rfscore0)"
   ]
  },
  {
   "cell_type": "code",
   "execution_count": null,
   "id": "2aad0531",
   "metadata": {},
   "outputs": [],
   "source": [
    "st.header(\"HCC risk for submitted patient\")"
   ]
  },
  {
   "cell_type": "code",
   "execution_count": null,
   "id": "f3640a71",
   "metadata": {},
   "outputs": [],
   "source": [
    "st.image (\"img.png\")"
   ]
  },
  {
   "cell_type": "code",
   "execution_count": null,
   "id": "6a2c861a",
   "metadata": {},
   "outputs": [],
   "source": [
    "if rfscore < 0.956: \n",
    "    st.subheader(\"Risk grouping for HCC in the original article: Low risk\")\n",
    "    st.markdown(\"HCC incidence in the low-risk group of the original study cohort: 0/1000 person-year (95%CI:0-2/1000)\")\n",
    "elif rfscore >= 3.20: \n",
    "    st.subheader(\"Risk grouping for HCC in the original article: High risk\")\n",
    "    st.markdown(\"HCC incidence in the high-risk group of the original study cohort: 15 /1000 person-year (95%CI: 11-22/1000)\")\n",
    "else:\n",
    "    st.subheader(\"Risk grouping for HCC in the original article: Intermediate risk\")\n",
    "    st.markdown(\"HCC incidence in the intermediate-risk group of the original study cohort: 3/1000 person-year (95%CI:1-6/1000)\")"
   ]
  },
  {
   "cell_type": "code",
   "execution_count": null,
   "id": "38abbae2",
   "metadata": {},
   "outputs": [],
   "source": [
    "y_pred = rsf.predict(X).flatten()[0]\n",
    "y_event = rsf.predict_survival_function(X, return_array=True).flatten()"
   ]
  },
  {
   "cell_type": "code",
   "execution_count": null,
   "id": "85f58a32",
   "metadata": {},
   "outputs": [],
   "source": [
    "st.subheader(\"Timing of Events (HCC)\")"
   ]
  },
  {
   "cell_type": "code",
   "execution_count": null,
   "id": "5d790233",
   "metadata": {},
   "outputs": [],
   "source": [
    "st.markdown(rsf.event_times_)%"
   ]
  },
  {
   "cell_type": "code",
   "execution_count": null,
   "id": "586329d8",
   "metadata": {},
   "outputs": [],
   "source": [
    "st.subheader(\"HCC incidence rates at each of the above 'Timing of Events (HCC)'\")"
   ]
  },
  {
   "cell_type": "code",
   "execution_count": null,
   "id": "7b6587dc",
   "metadata": {},
   "outputs": [],
   "source": [
    "st.markdown(1-y_event)"
   ]
  }
 ],
 "metadata": {
  "kernelspec": {
   "display_name": "Python 3",
   "language": "python",
   "name": "python3"
  },
  "language_info": {
   "codemirror_mode": {
    "name": "ipython",
    "version": 3
   },
   "file_extension": ".py",
   "mimetype": "text/x-python",
   "name": "python",
   "nbconvert_exporter": "python",
   "pygments_lexer": "ipython3",
   "version": "3.8.8"
  }
 },
 "nbformat": 4,
 "nbformat_minor": 5
}
